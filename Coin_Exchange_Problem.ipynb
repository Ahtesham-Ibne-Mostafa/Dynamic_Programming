{
  "nbformat": 4,
  "nbformat_minor": 0,
  "metadata": {
    "colab": {
      "provenance": [],
      "authorship_tag": "ABX9TyMSlDln3wA73VfbKFlRk2Wn",
      "include_colab_link": true
    },
    "kernelspec": {
      "name": "python3",
      "display_name": "Python 3"
    },
    "language_info": {
      "name": "python"
    }
  },
  "cells": [
    {
      "cell_type": "markdown",
      "metadata": {
        "id": "view-in-github",
        "colab_type": "text"
      },
      "source": [
        "<a href=\"https://colab.research.google.com/github/Ahtesham-Ibne-Mostafa/Dynamic_Programming/blob/main/Coin_Exchange_Problem.ipynb\" target=\"_parent\"><img src=\"https://colab.research.google.com/assets/colab-badge.svg\" alt=\"Open In Colab\"/></a>"
      ]
    },
    {
      "cell_type": "code",
      "execution_count": 1,
      "metadata": {
        "colab": {
          "base_uri": "https://localhost:8080/"
        },
        "id": "uuRfw1ogfOFA",
        "outputId": "9abb8c9c-23c8-4bde-f7b2-037e4d06e899"
      },
      "outputs": [
        {
          "output_type": "stream",
          "name": "stdout",
          "text": [
            "Enter the number of coins :3\n",
            "Enter the value of the coin :1\n",
            "Enter the value of the coin :3\n",
            "Enter the value of the coin :5\n",
            "Enter the number of taka you want to make :8\n",
            "  0 1 2 3 4 5 6 7 8 \n",
            "\n",
            "0 1 0 0 0 0 0 0 0 0 \n",
            "\n",
            "1 1 1 1 1 1 1 1 1 1 \n",
            "\n",
            "3 1 1 1 2 2 2 3 3 3 \n",
            "\n",
            "5 1 1 1 2 2 3 4 4 5 \n",
            "\n",
            "Total combinaiton number is : 5\n"
          ]
        }
      ],
      "source": [
        "pysha=int(input('Enter the number of coins :'))\n",
        "coins=[0]\n",
        "for i in range(pysha):\n",
        "    coins.append(int(input(\"Enter the value of the coin :\")))\n",
        "coins.sort()\n",
        "taka=int(input('Enter the number of taka you want to make :'))\n",
        "tk=[]\n",
        "for i in range (taka+1):\n",
        "    tk.append(i)\n",
        "    if i==0:\n",
        "        print(' ',end=' ')\n",
        "    print (i,end=' ')\n",
        "print('\\n')\n",
        "for i in coins:\n",
        "    print(i, end=' ')\n",
        "    combination=[]\n",
        "    for j in tk:\n",
        "        if i==0:\n",
        "            if j==0:\n",
        "                combination.append(1)\n",
        "                print(combination[j],end=' ')\n",
        "            else:\n",
        "                combination.append(0)\n",
        "                print(combination[j],end=' ') \n",
        "        else:\n",
        "            if i>j:\n",
        "                combination.append(check[j])\n",
        "                print(combination[j],end=' ')\n",
        "            else :\n",
        "                combination.append(check[j]+combination[j-i])\n",
        "                print(combination[j],end=' ')                                      \n",
        "    check=combination.copy()\n",
        "    print('\\n')\n",
        "print('Total combinaiton number is :',check[-1])"
      ]
    },
    {
      "cell_type": "code",
      "source": [],
      "metadata": {
        "id": "vdEK7XvwfTbV"
      },
      "execution_count": null,
      "outputs": []
    }
  ]
}