{
 "cells": [
  {
   "cell_type": "code",
   "execution_count": 4,
   "metadata": {},
   "outputs": [
    {
     "name": "stdout",
     "output_type": "stream",
     "text": [
      "  0 1 2 3 4 5 6 7 8 \n",
      "\n",
      "0 1 0 0 0 0 0 0 0 0 \n",
      "\n",
      "1 1 1 1 1 1 1 1 1 1 \n",
      "\n",
      "3 1 1 1 2 2 2 3 3 3 \n",
      "\n",
      "5 1 1 1 2 2 3 4 4 5 \n",
      "\n",
      "Total combinaiton number is : 5\n"
     ]
    }
   ],
   "source": [
    "pysha=int(input('Enter the number of coins :'))\n",
    "coins=[0]\n",
    "for i in range(pysha):\n",
    "    coins.append(int(input(\"Enter the value of the coin :\")))\n",
    "coins.sort()\n",
    "taka=int(input('Enter the number of taka you want to make :'))\n",
    "tk=[]\n",
    "for i in range (taka+1):\n",
    "    tk.append(i)\n",
    "    if i==0:\n",
    "        print(' ',end=' ')\n",
    "    print (i,end=' ')\n",
    "print('\\n')\n",
    "for i in coins:\n",
    "    print(i, end=' ')\n",
    "    combination=[]\n",
    "    for j in tk:\n",
    "        if i==0:\n",
    "            if j==0:\n",
    "                combination.append(1)\n",
    "                print(combination[j],end=' ')\n",
    "            else:\n",
    "                combination.append(0)\n",
    "                print(combination[j],end=' ') \n",
    "        else:\n",
    "            if i>j:\n",
    "                combination.append(check[j])\n",
    "                print(combination[j],end=' ')\n",
    "            else :\n",
    "                combination.append(check[j]+combination[j-i])\n",
    "                print(combination[j],end=' ')                                      \n",
    "    check=combination.copy()\n",
    "    print('\\n')\n",
    "print('Total combinaiton number is :',check[-1])"
   ]
  }
 ],
 "metadata": {
  "kernelspec": {
   "display_name": "Python 3.10.8 64-bit (microsoft store)",
   "language": "python",
   "name": "python3"
  },
  "language_info": {
   "codemirror_mode": {
    "name": "ipython",
    "version": 3
   },
   "file_extension": ".py",
   "mimetype": "text/x-python",
   "name": "python",
   "nbconvert_exporter": "python",
   "pygments_lexer": "ipython3",
   "version": "3.10.8"
  },
  "orig_nbformat": 4,
  "vscode": {
   "interpreter": {
    "hash": "efb25ee08ad69dead2ab5496ee0c8d86b1adbbae397278509c1aab5e90353b65"
   }
  }
 },
 "nbformat": 4,
 "nbformat_minor": 2
}
